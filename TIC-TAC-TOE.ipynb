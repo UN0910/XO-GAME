{
 "cells": [
  {
   "cell_type": "code",
   "execution_count": 21,
   "metadata": {},
   "outputs": [],
   "source": [
    "from IPython.display import clear_output\n",
    "\n",
    "def display_board(board):\n",
    "    clear_output()\n",
    "    print('       |       |')\n",
    "    print('   ' + board[1] + '   |   ' + board[2] + '   |   ' + board[3])\n",
    "    print('       |       |')\n",
    "    print('----------------------')\n",
    "    print('       |       |')\n",
    "    print('   ' + board[4] + '   |   ' + board[5] + '   |   ' + board[6])\n",
    "    print('       |       |')\n",
    "    print('----------------------')\n",
    "    print('       |       |')\n",
    "    print('   ' + board[7] + '   |   ' + board[8] + '   |   ' + board[9])\n",
    "    print('       |       |')"
   ]
  },
  {
   "cell_type": "code",
   "execution_count": 22,
   "metadata": {},
   "outputs": [
    {
     "name": "stdout",
     "output_type": "stream",
     "text": [
      "       |       |\n",
      "   X   |   O   |   X\n",
      "       |       |\n",
      "----------------------\n",
      "       |       |\n",
      "   O   |   X   |   O\n",
      "       |       |\n",
      "----------------------\n",
      "       |       |\n",
      "   X   |   O   |   X\n",
      "       |       |\n"
     ]
    }
   ],
   "source": [
    "test_board=['#','X','O','X','O','X','O','X','O','X']\n",
    "display_board(test_board)"
   ]
  },
  {
   "cell_type": "code",
   "execution_count": 23,
   "metadata": {},
   "outputs": [],
   "source": [
    "def xo_selection():\n",
    "    assigner =''\n",
    "    while assigner!='X' and assigner!='O':\n",
    "        assigner = input('Input Player-1 selection:').upper()\n",
    "        \n",
    "    if assigner=='X':\n",
    "        return('X','O')\n",
    "    else:\n",
    "        return('O','X')"
   ]
  },
  {
   "cell_type": "code",
   "execution_count": 24,
   "metadata": {},
   "outputs": [
    {
     "name": "stdout",
     "output_type": "stream",
     "text": [
      "Input Player-1 selection:\n",
      "Input Player-1 selection:x\n"
     ]
    }
   ],
   "source": [
    "p1, p2 = xo_selection()"
   ]
  },
  {
   "cell_type": "code",
   "execution_count": 25,
   "metadata": {},
   "outputs": [
    {
     "data": {
      "text/plain": [
       "'O'"
      ]
     },
     "execution_count": 25,
     "metadata": {},
     "output_type": "execute_result"
    }
   ],
   "source": [
    "p2"
   ]
  },
  {
   "cell_type": "code",
   "execution_count": 26,
   "metadata": {},
   "outputs": [],
   "source": [
    "def turn_marker(board, assigner, position):\n",
    "    board[position] = assigner"
   ]
  },
  {
   "cell_type": "code",
   "execution_count": 27,
   "metadata": {},
   "outputs": [
    {
     "name": "stdout",
     "output_type": "stream",
     "text": [
      "       |       |\n",
      "   X   |   O   |   X\n",
      "       |       |\n",
      "----------------------\n",
      "       |       |\n",
      "   O   |   X   |   O\n",
      "       |       |\n",
      "----------------------\n",
      "       |       |\n",
      "   X   |   O   |   X\n",
      "       |       |\n"
     ]
    }
   ],
   "source": [
    "turn_marker(test_board, 'X', 5)\n",
    "display_board(test_board)"
   ]
  },
  {
   "cell_type": "code",
   "execution_count": 28,
   "metadata": {},
   "outputs": [],
   "source": [
    "def win(board, mark):\n",
    "    return ((board[1]==board[2]==board[3]==mark)or\n",
    "    (board[4]==board[5]==board[6]==mark)or\n",
    "    (board[7]==board[8]==board[9]==mark)or\n",
    "    (board[1]==board[5]==board[9]==mark)or\n",
    "    (board[3]==board[5]==board[7]==mark)or\n",
    "    (board[1]==board[4]==board[7]==mark)or\n",
    "    (board[2]==board[5]==board[8]==mark)or\n",
    "    (board[3]==board[6]==board[9]==mark))"
   ]
  },
  {
   "cell_type": "code",
   "execution_count": 29,
   "metadata": {},
   "outputs": [
    {
     "name": "stdout",
     "output_type": "stream",
     "text": [
      "       |       |\n",
      "   X   |   O   |   X\n",
      "       |       |\n",
      "----------------------\n",
      "       |       |\n",
      "   O   |   X   |   O\n",
      "       |       |\n",
      "----------------------\n",
      "       |       |\n",
      "   X   |   O   |   X\n",
      "       |       |\n"
     ]
    },
    {
     "data": {
      "text/plain": [
       "True"
      ]
     },
     "execution_count": 29,
     "metadata": {},
     "output_type": "execute_result"
    }
   ],
   "source": [
    "display_board(test_board)\n",
    "win(test_board, 'X')"
   ]
  },
  {
   "cell_type": "code",
   "execution_count": 30,
   "metadata": {},
   "outputs": [],
   "source": [
    "import random\n",
    "def player_selection():\n",
    "    toss=random.randint(0,1)\n",
    "    if toss == 0:\n",
    "        return 'Player-1 Turn'\n",
    "    else:\n",
    "        return 'Player-2 Turn'"
   ]
  },
  {
   "cell_type": "code",
   "execution_count": 31,
   "metadata": {},
   "outputs": [],
   "source": [
    "def space_avalaibilty(board, position):\n",
    "    return board[position] == ' '"
   ]
  },
  {
   "cell_type": "code",
   "execution_count": 32,
   "metadata": {},
   "outputs": [],
   "source": [
    "def full_space_avalaibilty(board):\n",
    "    for i in range(1,10):\n",
    "        if space_avalaibilty(board, i):\n",
    "            return False\n",
    "    return True"
   ]
  },
  {
   "cell_type": "code",
   "execution_count": 33,
   "metadata": {},
   "outputs": [],
   "source": [
    "def player_choice(board):\n",
    "    position=0\n",
    "    while position not in [1,2,3,4,5,6,7,8,9] or not space_avalaibilty(board, position):\n",
    "        position = int(input('Enter your next move(1-9):'))\n",
    "    return position"
   ]
  },
  {
   "cell_type": "code",
   "execution_count": 34,
   "metadata": {},
   "outputs": [],
   "source": [
    "def play_again():\n",
    "    choice = input('Want to play again(Y/N):').upper()\n",
    "    \n",
    "    return choice=='Y'"
   ]
  },
  {
   "cell_type": "code",
   "execution_count": 36,
   "metadata": {},
   "outputs": [
    {
     "name": "stdout",
     "output_type": "stream",
     "text": [
      "       |       |\n",
      "   O   |   X   |   O\n",
      "       |       |\n",
      "----------------------\n",
      "       |       |\n",
      "   O   |   X   |   X\n",
      "       |       |\n",
      "----------------------\n",
      "       |       |\n",
      "   X   |   O   |   O\n",
      "       |       |\n",
      "Game has Tied!!!\n",
      "Want to play again(Y/N):n\n"
     ]
    }
   ],
   "source": [
    "print('TIC-TAC-TOE GAME')\n",
    "\n",
    "while True:\n",
    "    \n",
    "    main_board = [' ']*10\n",
    "    p1,p2 = xo_selection()\n",
    "    \n",
    "    turn = player_selection()\n",
    "    print(turn)\n",
    "    \n",
    "    start = input(\"Let's start(Y/N)? \").upper()\n",
    "    if start == 'Y':\n",
    "        start_on = True\n",
    "    else:\n",
    "        start_on = False\n",
    "        \n",
    "    while start_on:\n",
    "        if turn == 'p1':\n",
    "            display_board(main_board)\n",
    "            position=player_choice(main_board)\n",
    "            turn_marker(main_board, p1, position)\n",
    "            \n",
    "            if win(main_board, p1):\n",
    "                display_board(main_board)\n",
    "                print('Player-1 is the winner!!!')\n",
    "                start_on=False\n",
    "            else:\n",
    "                if full_space_avalaibilty(main_board):\n",
    "                    display_board(main_board)\n",
    "                    print('Game has Tied!!!')\n",
    "                    start_on=False\n",
    "                else:\n",
    "                    turn = 'p2'\n",
    "        else:\n",
    "            display_board(main_board)\n",
    "            position=player_choice(main_board)\n",
    "            turn_marker(main_board, p2, position)\n",
    "            \n",
    "            if win(main_board, p2):\n",
    "                display_board(main_board)\n",
    "                print('Player-2 is the winner!!!')\n",
    "                start_on=False\n",
    "            else:\n",
    "                if full_space_avalaibilty(main_board):\n",
    "                    display_board(main_board)\n",
    "                    print('Game has Tied!!!')\n",
    "                    start_on=False\n",
    "                else:\n",
    "                    turn = 'p1'\n",
    "    \n",
    "    if not play_again():\n",
    "        break"
   ]
  },
  {
   "cell_type": "code",
   "execution_count": null,
   "metadata": {},
   "outputs": [],
   "source": []
  },
  {
   "cell_type": "code",
   "execution_count": null,
   "metadata": {},
   "outputs": [],
   "source": []
  }
 ],
 "metadata": {
  "kernelspec": {
   "display_name": "Python 3",
   "language": "python",
   "name": "python3"
  },
  "language_info": {
   "codemirror_mode": {
    "name": "ipython",
    "version": 3
   },
   "file_extension": ".py",
   "mimetype": "text/x-python",
   "name": "python",
   "nbconvert_exporter": "python",
   "pygments_lexer": "ipython3",
   "version": "3.8.5"
  }
 },
 "nbformat": 4,
 "nbformat_minor": 4
}
